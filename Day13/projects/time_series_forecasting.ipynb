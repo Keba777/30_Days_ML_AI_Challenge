{
 "cells": [
  {
   "cell_type": "code",
   "execution_count": null,
   "metadata": {
    "vscode": {
     "languageId": "plaintext"
    }
   },
   "outputs": [],
   "source": [
    "import pandas as pd\n",
    "import numpy as np\n",
    "import yfinance as yf\n",
    "import matplotlib.pyplot as plt\n",
    "import seaborn as sns\n",
    "from statsmodels.tsa.arima.model import ARIMA\n",
    "from prophet import Prophet\n"
   ]
  },
  {
   "cell_type": "code",
   "execution_count": null,
   "metadata": {
    "vscode": {
     "languageId": "plaintext"
    }
   },
   "outputs": [],
   "source": [
    "# Download stock data\n",
    "ticker = \"AAPL\"  # Change to any stock ticker\n",
    "data = yf.download(ticker, start=\"2015-01-01\", end=\"2024-01-01\")\n",
    "data = data[['Close']]\n",
    "data.dropna(inplace=True)\n"
   ]
  },
  {
   "cell_type": "code",
   "execution_count": null,
   "metadata": {
    "vscode": {
     "languageId": "plaintext"
    }
   },
   "outputs": [],
   "source": [
    "# Plot stock price trend\n",
    "plt.figure(figsize=(10,5))\n",
    "plt.plot(data['Close'], label=f'{ticker} Closing Price')\n",
    "plt.title(f'{ticker} Stock Price Over Time')\n",
    "plt.xlabel('Date')\n",
    "plt.ylabel('Closing Price')\n",
    "plt.legend()\n",
    "plt.show()\n"
   ]
  },
  {
   "cell_type": "code",
   "execution_count": null,
   "metadata": {
    "vscode": {
     "languageId": "plaintext"
    }
   },
   "outputs": [],
   "source": [
    "# ARIMA Model\n",
    "train_size = int(len(data) * 0.8)\n",
    "train, test = data[:train_size], data[train_size:]\n",
    "\n",
    "arima_model = ARIMA(train, order=(5,1,0))  # (p,d,q) values can be optimized\n",
    "arima_fit = arima_model.fit()\n",
    "\n",
    "# Forecast using ARIMA\n",
    "arima_forecast = arima_fit.forecast(steps=len(test))\n"
   ]
  },
  {
   "cell_type": "code",
   "execution_count": null,
   "metadata": {
    "vscode": {
     "languageId": "plaintext"
    }
   },
   "outputs": [],
   "source": [
    "# Plot ARIMA predictions\n",
    "plt.figure(figsize=(10,5))\n",
    "plt.plot(test.index, test, label='Actual')\n",
    "plt.plot(test.index, arima_forecast, label='ARIMA Forecast', linestyle='dashed')\n",
    "plt.title(f'{ticker} ARIMA Forecast')\n",
    "plt.xlabel('Date')\n",
    "plt.ylabel('Closing Price')\n",
    "plt.legend()\n",
    "plt.show()\n"
   ]
  },
  {
   "cell_type": "code",
   "execution_count": null,
   "metadata": {
    "vscode": {
     "languageId": "plaintext"
    }
   },
   "outputs": [],
   "source": [
    "# Prophet Model\n",
    "data_reset = data.reset_index()\n",
    "data_reset.columns = ['ds', 'y']\n",
    "prophet_model = Prophet()\n",
    "prophet_model.fit(data_reset)\n",
    "\n",
    "future = prophet_model.make_future_dataframe(periods=365)\n",
    "forecast = prophet_model.predict(future)\n"
   ]
  },
  {
   "cell_type": "code",
   "execution_count": null,
   "metadata": {
    "vscode": {
     "languageId": "plaintext"
    }
   },
   "outputs": [],
   "source": [
    "# Plot Prophet forecast\n",
    "prophet_model.plot(forecast)\n",
    "plt.title(f'{ticker} Stock Price Forecast (Prophet)')\n",
    "plt.show()\n"
   ]
  },
  {
   "cell_type": "code",
   "execution_count": null,
   "metadata": {
    "vscode": {
     "languageId": "plaintext"
    }
   },
   "outputs": [],
   "source": [
    "# Plot forecast components\n",
    "prophet_model.plot_components(forecast)\n",
    "plt.show()"
   ]
  }
 ],
 "metadata": {
  "language_info": {
   "name": "python"
  }
 },
 "nbformat": 4,
 "nbformat_minor": 2
}
