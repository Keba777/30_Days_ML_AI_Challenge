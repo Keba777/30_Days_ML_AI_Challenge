{
 "cells": [
  {
   "cell_type": "code",
   "execution_count": null,
   "metadata": {
    "vscode": {
     "languageId": "plaintext"
    }
   },
   "outputs": [],
   "source": [
    "import numpy as np\n",
    "\n",
    "# Activation function: Sigmoid and its derivative\n",
    "def sigmoid(x):\n",
    "    return 1 / (1 + np.exp(-x))\n",
    "\n",
    "def sigmoid_derivative(x):\n",
    "    return x * (1 - x)\n"
   ]
  },
  {
   "cell_type": "code",
   "execution_count": null,
   "metadata": {
    "vscode": {
     "languageId": "plaintext"
    }
   },
   "outputs": [],
   "source": [
    "# Training dataset (X: inputs, y: outputs)\n",
    "X = np.array([[0, 0], [0, 1], [1, 0], [1, 1]])\n",
    "y = np.array([[0], [1], [1], [0]])  # XOR problem\n",
    "\n",
    "# Initialize weights and biases randomly\n",
    "np.random.seed(1)\n",
    "weights_input_hidden = np.random.uniform(-1, 1, (2, 3))\n",
    "weights_hidden_output = np.random.uniform(-1, 1, (3, 1))\n",
    "bias_hidden = np.zeros((1, 3))\n",
    "bias_output = np.zeros((1, 1))\n"
   ]
  },
  {
   "cell_type": "code",
   "execution_count": null,
   "metadata": {
    "vscode": {
     "languageId": "plaintext"
    }
   },
   "outputs": [],
   "source": [
    "# Training parameters\n",
    "learning_rate = 0.5\n",
    "epochs = 10000\n",
    "\n",
    "# Training loop\n",
    "for epoch in range(epochs):\n",
    "    # Forward propagation\n",
    "    hidden_input = np.dot(X, weights_input_hidden) + bias_hidden\n",
    "    hidden_output = sigmoid(hidden_input)\n",
    "    \n",
    "    final_input = np.dot(hidden_output, weights_hidden_output) + bias_output\n",
    "    final_output = sigmoid(final_input)\n",
    "    \n",
    "    # Compute the error\n",
    "    error = y - final_output\n",
    "    \n",
    "    # Backpropagation\n",
    "    d_output = error * sigmoid_derivative(final_output)\n",
    "    error_hidden = d_output.dot(weights_hidden_output.T)\n",
    "    d_hidden = error_hidden * sigmoid_derivative(hidden_output)\n",
    "    \n",
    "    # Update weights and biases\n",
    "    weights_hidden_output += hidden_output.T.dot(d_output) * learning_rate\n",
    "    weights_input_hidden += X.T.dot(d_hidden) * learning_rate\n",
    "    bias_output += np.sum(d_output, axis=0, keepdims=True) * learning_rate\n",
    "    bias_hidden += np.sum(d_hidden, axis=0, keepdims=True) * learning_rate\n",
    "    \n",
    "    # Print loss every 1000 epochs\n",
    "    if epoch % 1000 == 0:\n",
    "        loss = np.mean(np.abs(error))\n",
    "        print(f'Epoch {epoch}, Loss: {loss}')\n"
   ]
  },
  {
   "cell_type": "code",
   "execution_count": null,
   "metadata": {
    "vscode": {
     "languageId": "plaintext"
    }
   },
   "outputs": [],
   "source": [
    "# Testing the trained model\n",
    "print(\"\\nFinal Predictions:\")\n",
    "print(final_output)"
   ]
  }
 ],
 "metadata": {
  "language_info": {
   "name": "python"
  }
 },
 "nbformat": 4,
 "nbformat_minor": 2
}
