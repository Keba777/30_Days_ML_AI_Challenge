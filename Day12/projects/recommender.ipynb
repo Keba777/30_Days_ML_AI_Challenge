{
 "cells": [
  {
   "cell_type": "code",
   "execution_count": null,
   "metadata": {
    "vscode": {
     "languageId": "plaintext"
    }
   },
   "outputs": [],
   "source": [
    "import pandas as pd\n",
    "import numpy as np\n",
    "from sklearn.metrics.pairwise import cosine_similarity\n",
    "from sklearn.feature_extraction.text import CountVectorizer\n",
    "from sklearn.model_selection import train_test_split\n",
    "from sklearn.metrics import mean_squared_error\n",
    "import matplotlib.pyplot as plt\n",
    "\n"
   ]
  },
  {
   "cell_type": "code",
   "execution_count": null,
   "metadata": {
    "vscode": {
     "languageId": "plaintext"
    }
   },
   "outputs": [],
   "source": [
    "# Load MovieLens dataset\n",
    "movies = pd.read_csv('movies.csv')\n",
    "ratings = pd.read_csv('ratings.csv')\n",
    "\n",
    "# Merge datasets\n",
    "data = pd.merge(ratings, movies, on='movieId')\n"
   ]
  },
  {
   "cell_type": "code",
   "execution_count": null,
   "metadata": {
    "vscode": {
     "languageId": "plaintext"
    }
   },
   "outputs": [],
   "source": [
    "# Preprocess data\n",
    "user_movie_matrix = data.pivot_table(index='userId', columns='title', values='rating')\n",
    "\n",
    "# Fill NaN values with 0\n",
    "user_movie_matrix = user_movie_matrix.fillna(0)\n",
    "\n",
    "# Collaborative filtering: Item-based\n",
    "item_similarity = cosine_similarity(user_movie_matrix.T)\n",
    "item_sim_df = pd.DataFrame(item_similarity, index=user_movie_matrix.columns, columns=user_movie_matrix.columns)\n"
   ]
  },
  {
   "cell_type": "code",
   "execution_count": null,
   "metadata": {
    "vscode": {
     "languageId": "plaintext"
    }
   },
   "outputs": [],
   "source": [
    "# Recommendation function\n",
    "def recommend_movies(movie_title, n=5):\n",
    "    if movie_title not in item_sim_df:\n",
    "        return f\"Movie '{movie_title}' not found in the dataset.\"\n",
    "    similar_movies = item_sim_df[movie_title].sort_values(ascending=False)[1:n+1]\n",
    "    return similar_movies\n"
   ]
  },
  {
   "cell_type": "code",
   "execution_count": null,
   "metadata": {
    "vscode": {
     "languageId": "plaintext"
    }
   },
   "outputs": [],
   "source": [
    "# Content-based filtering: Genres\n",
    "movies['genres'] = movies['genres'].str.replace('|', ' ')\n",
    "count_vectorizer = CountVectorizer()\n",
    "genre_matrix = count_vectorizer.fit_transform(movies['genres'])\n",
    "\n",
    "content_similarity = cosine_similarity(genre_matrix)\n",
    "\n",
    "def recommend_based_on_genres(movie_title, n=5):\n",
    "    idx = movies[movies['title'] == movie_title].index\n",
    "    if len(idx) == 0:\n",
    "        return f\"Movie '{movie_title}' not found in the dataset.\"\n",
    "    idx = idx[0]\n",
    "    similar_indices = content_similarity[idx].argsort()[-(n+1):-1][::-1]\n",
    "    recommendations = movies.iloc[similar_indices]\n",
    "    return recommendations[['title', 'genres']]\n"
   ]
  },
  {
   "cell_type": "code",
   "execution_count": null,
   "metadata": {
    "vscode": {
     "languageId": "plaintext"
    }
   },
   "outputs": [],
   "source": [
    "# Evaluate collaborative filtering with RMSE\n",
    "train, test = train_test_split(ratings, test_size=0.2, random_state=42)\n",
    "user_movie_matrix_train = train.pivot_table(index='userId', columns='movieId', values='rating').fillna(0)\n",
    "user_movie_matrix_test = test.pivot_table(index='userId', columns='movieId', values='rating').fillna(0)\n",
    "\n",
    "predicted_ratings = user_movie_matrix_train.dot(item_similarity) / np.array(\n",
    "    [np.abs(item_similarity).sum(axis=1)]\n",
    ").T\n",
    "rmse = np.sqrt(mean_squared_error(user_movie_matrix_test.values.flatten(), predicted_ratings.flatten()))\n",
    "print(f\"RMSE: {rmse}\")\n",
    "\n",
    "# Example usage\n",
    "print(recommend_movies(\"Toy Story (1995)\"))\n",
    "print(recommend_based_on_genres(\"Toy Story (1995)\"))\n"
   ]
  }
 ],
 "metadata": {
  "language_info": {
   "name": "python"
  }
 },
 "nbformat": 4,
 "nbformat_minor": 2
}
